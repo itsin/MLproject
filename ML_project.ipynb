{
 "cells": [
  {
   "cell_type": "code",
   "execution_count": 3,
   "id": "separated-response",
   "metadata": {},
   "outputs": [],
   "source": [
    "import pandas as pd\n",
    "import numpy as np\n",
    "import matplotlib.pyplot as plt\n",
    "import nltk\n",
    "from konlpy.tag import Mecab\n",
    "from konlpy.tag import Komoran\n",
    "from konlpy.tag import Okt\n",
    "import re"
   ]
  },
  {
   "cell_type": "code",
   "execution_count": 4,
   "id": "israeli-october",
   "metadata": {},
   "outputs": [],
   "source": [
    "df = pd.read_csv('datas/PPTIcsv.csv')"
   ]
  },
  {
   "cell_type": "code",
   "execution_count": 5,
   "id": "impressed-colleague",
   "metadata": {},
   "outputs": [],
   "source": [
    "df5 = df[df.rating == 5]\n",
    "df4 = df[df.rating == 4]\n",
    "df3 = df[df.rating == 3]\n",
    "df2 = df[df.rating == 2]\n",
    "df1 = df[df.rating == 1]"
   ]
  },
  {
   "cell_type": "markdown",
   "id": "mysterious-hierarchy",
   "metadata": {},
   "source": [
    "별점 물리적 평균 내기"
   ]
  },
  {
   "cell_type": "code",
   "execution_count": 4,
   "id": "packed-garden",
   "metadata": {},
   "outputs": [],
   "source": [
    "values = [len(df[df.rating == 1]),\n",
    "         len(df[df.rating == 2]),\n",
    "         len(df[df.rating == 3]),\n",
    "        len(df[df.rating == 4]),\n",
    "        len(df[df.rating == 5])]"
   ]
  },
  {
   "cell_type": "code",
   "execution_count": 85,
   "id": "dimensional-daniel",
   "metadata": {},
   "outputs": [
    {
     "data": {
      "text/plain": [
       "4.008300590668991"
      ]
     },
     "execution_count": 85,
     "metadata": {},
     "output_type": "execute_result"
    }
   ],
   "source": [
    "np.mean(df.rating)"
   ]
  },
  {
   "cell_type": "code",
   "execution_count": 86,
   "id": "selected-february",
   "metadata": {},
   "outputs": [],
   "source": [
    "ratings = [1, 2, 3, 4, 5]"
   ]
  },
  {
   "cell_type": "code",
   "execution_count": 87,
   "id": "unsigned-background",
   "metadata": {},
   "outputs": [
    {
     "data": {
      "image/png": "[encoded data removed]",
      "text/plain": [
       "<Figure size 864x576 with 1 Axes>"
      ]
     },
     "metadata": {
      "needs_background": "light"
     },
     "output_type": "display_data"
    }
   ],
   "source": [
    "plt.figure(figsize = (12,8))\n",
    "\n",
    "plt.bar(ratings, values)\n",
    "plt.axvline(np.mean(df.rating), color='orange')\n",
    "\n",
    "plt.show()"
   ]
  },
  {
   "cell_type": "markdown",
   "id": "received-english",
   "metadata": {},
   "source": [
    "긍정/부정 라벨링"
   ]
  },
  {
   "cell_type": "code",
   "execution_count": 6,
   "id": "turkish-science",
   "metadata": {},
   "outputs": [],
   "source": [
    "pos_df = pd.concat([df4,df5]).reset_index().drop(columns=['index'])\n",
    "neg_df = pd.concat([df1,df2,df3]).reset_index().drop(columns=['index'])"
   ]
  },
  {
   "cell_type": "code",
   "execution_count": 7,
   "id": "numerical-morocco",
   "metadata": {},
   "outputs": [],
   "source": [
    "pos_df['label'] = 1\n",
    "neg_df['label'] = 0"
   ]
  },
  {
   "cell_type": "code",
   "execution_count": 8,
   "id": "comfortable-gateway",
   "metadata": {},
   "outputs": [],
   "source": [
    "reviews = pd.concat([pos_df,neg_df])"
   ]
  },
  {
   "cell_type": "code",
   "execution_count": 9,
   "id": "fancy-armor",
   "metadata": {},
   "outputs": [],
   "source": [
    "reviews = reviews.drop(['Unnamed: 0'],axis=1)"
   ]
  },
  {
   "cell_type": "markdown",
   "id": "charged-papua",
   "metadata": {},
   "source": [
    " 전처리"
   ]
  },
  {
   "cell_type": "code",
   "execution_count": 10,
   "id": "silver-mattress",
   "metadata": {},
   "outputs": [],
   "source": [
    "mecab = Mecab()\n",
    "\n",
    "\n",
    "def me_tokenizer(text):\n",
    "    tokens_ko = mecab.morphs(text)\n",
    "    return tokens_ko\n",
    "\n",
    "def preprocessing(text):\n",
    "    text = re.sub('[^가-힣ㄱ-ㅎㅏ-ㅣa-zA-Z]', ' ', text)\n",
    "    return text"
   ]
  },
  {
   "cell_type": "code",
   "execution_count": 11,
   "id": "systematic-lightning",
   "metadata": {},
   "outputs": [
    {
     "name": "stdout",
     "output_type": "stream",
     "text": [
      "의,가,이,은,들,는,좀,잘,과,도,를,으로,자,에,것,까지,을,적,',수,와,한,하다,에는,것은,에게,관,.,로,인,경우,권,하,),(,\",중,이다,,,되다,하고,되다,에서,김,통해,김, 명,있다,없다,중,돼다,받다,따르다,장,명,ㅡㅡ,ㅜ,ㅠ,ㅡ,_시,분,',~,방구,니,로라,튼,엔,이,콕콕,벌렁,?,분,접,ㅜㅜ,ㅠㅠ,ㅜㅡ,ㅡㅜ,ㅠㅜ,ㅜㅠ,거,것,빈,때,게,중,빈,저,때,하루,후기,커피,우유,키,쉐이크,달,,!,!!,!!!,!!!!,!!!!!,!!!!!!,!^^,#,%,&,*,**,***,+,-,-),-------------------------,->,.!,.!!,.(,.),..,..(,..),...,....,.....,......,.......,........,.........,..........,...?,..?,..^^,.?,.^^,/,:,;,;;,;;;,;;;;,;;;;;,<,=,>,><,?,??,???,@,[,],^,^-^,^^,^^!,^^*,^^;,^^;;,^^;;;,^^~~,^^♡,^_^,_,~!,~!!,~!!!,~.,~...,~?,~^^,~^^;;,~~,~~!,~~!!,~~!!!,~~^^,~~~,~~~^^,~~~~,~~~~~,~~~~~~,~~♡,~♡, ,×,ᆢ,•,‥,※,●,★,☆,♡,♡♡,♥,✔,❤,⭐,!!!!!!!,!!!^^,!!^^,!(,!),!?,(?),),,,,,,,,,,,,,,,.,.*,.,,.-,..!,..!!,...!,...(,...),...^^,//,:),:-),?!,????,^^~,a,b,c,cla,x,~(,♡♡♡,✔️,❤️,ㄱ,ㄴ,ㄷ,ㄷㄷ,ㄹㅇ,ㅁ,ㅂ,ㅅ,ㅇ,ㅇㅅㅇ,ㅈ,ㅋ,ㅋㅋㅋㅋ,ㅋㅋㅋㅋㅋ,ㅋㅋㅋㅋㅋㅋ,ㅋㅋㅋㅋㅋㅋㅋ,ㅋㅋㅋㅋㅋㅋㅋㅋ,ㅋㅋㅋㅋㅋㅋㅋㅋㅋ,ㅋㅋㅋㅋㅋㅋㅋㅋㅋㅋ,ㅋㅋㅋㅋㅋㅋㅋㅋㅋㅋㅋ,ㅎ,)-,,,,,,,...........,....?,...;;,ㅎㅎㅎ,ㅎㅎㅎㅎ,ㅎㅎㅎㅎㅎ,ㅎㅎㅎㅎㅎㅎ,ㅏ,ㅛ,ㅜㅜㅜ,ㅜㅜㅜㅜ,ㅠㅠㅠ,ㅠㅠㅠㅠ,ㅠㅠㅠㅠㅠ,ㅠㅠㅠㅠㅠㅠ,ㅠㅡㅠ,ㅡㅡㅋ,ㅣ,겉,겟,겨,결,겹,경,고,뇌,뇨,누,론,료,루,룩,류,르,리,리 고,힝,or,p,pt,s,sns,t,the,tv,xx,ㄹ,ㅇㅇ,ㅋㅋ,ㅋㅋ ㅋㅋ,ㅋㅋㅋ,ㅋㅋㅋ ㅋㅋ,ㅋㅋㅋ ㅋㅋ ㅋㅋ,ㅋㅋㅋ ㅋㅋㅋ,ㅋㅋㅋ ㅋㅋㅋ ㅋㅋ,ㅋㅋㅋ ㅋㅋㅋ ㅋㅋㅋ,ㅎㅎ,ㅎㅎ ㅎㅎ,but,cm,cm kg,d,e,f,\n"
     ]
    }
   ],
   "source": [
    "fr = open('stopwords.txt', 'r')\n",
    "stopwords = fr.read()\n",
    "print(stopwords)\n",
    "fr.close()\n",
    "\n",
    "stopwords = []\n",
    "for word in stopwords:\n",
    "    stop_words.append(word)"
   ]
  },
  {
   "cell_type": "code",
   "execution_count": 12,
   "id": "global-spectacular",
   "metadata": {},
   "outputs": [
    {
     "data": {
      "text/html": [
       "<div>\n",
       "<style scoped>\n",
       "    .dataframe tbody tr th:only-of-type {\n",
       "        vertical-align: middle;\n",
       "    }\n",
       "\n",
       "    .dataframe tbody tr th {\n",
       "        vertical-align: top;\n",
       "    }\n",
       "\n",
       "    .dataframe thead th {\n",
       "        text-align: right;\n",
       "    }\n",
       "</style>\n",
       "<table border=\"1\" class=\"dataframe\">\n",
       "  <thead>\n",
       "    <tr style=\"text-align: right;\">\n",
       "      <th></th>\n",
       "      <th>title</th>\n",
       "      <th>rating</th>\n",
       "      <th>review</th>\n",
       "      <th>date</th>\n",
       "      <th>label</th>\n",
       "      <th>pred</th>\n",
       "    </tr>\n",
       "  </thead>\n",
       "  <tbody>\n",
       "    <tr>\n",
       "      <th>0</th>\n",
       "      <td>클린24시간 탄수화물 차단 다이어트 쾌변 보조 식품, 100ml, 5개입</td>\n",
       "      <td>4</td>\n",
       "      <td>상품평 보고 구매하게 됐어요 개인마다 차이가 있겠지만 저는 첫날에는 아무 반응이 없...</td>\n",
       "      <td>2020.06.04</td>\n",
       "      <td>1</td>\n",
       "      <td>0</td>\n",
       "    </tr>\n",
       "    <tr>\n",
       "      <th>1</th>\n",
       "      <td>클린24시간 탄수화물 차단 다이어트 쾌변 보조 식품, 100ml, 5개입</td>\n",
       "      <td>4</td>\n",
       "      <td>대변 보려고 산건데    딱히배가 너무 아팠어요 ㅠㅠ</td>\n",
       "      <td>2020.10.22</td>\n",
       "      <td>1</td>\n",
       "      <td>0</td>\n",
       "    </tr>\n",
       "    <tr>\n",
       "      <th>2</th>\n",
       "      <td>클린24시간 탄수화물 차단 다이어트 쾌변 보조 식품, 100ml, 5개입</td>\n",
       "      <td>4</td>\n",
       "      <td>몸 가볍게 하려고 구입했는데 하루 먹고 변은 안나오고 배만 가스차서 복어처럼 되면서...</td>\n",
       "      <td>2020.06.30</td>\n",
       "      <td>1</td>\n",
       "      <td>0</td>\n",
       "    </tr>\n",
       "    <tr>\n",
       "      <th>3</th>\n",
       "      <td>클린24시간 탄수화물 차단 다이어트 쾌변 보조 식품, 100ml, 5개입</td>\n",
       "      <td>4</td>\n",
       "      <td>저는 별 효과가 없네요ㅜ 후기보고 기대하고 주문했는데ㅜ처음 먹고  한번 화장실가고는...</td>\n",
       "      <td>2020.02.07</td>\n",
       "      <td>1</td>\n",
       "      <td>0</td>\n",
       "    </tr>\n",
       "    <tr>\n",
       "      <th>4</th>\n",
       "      <td>클린24시간 탄수화물 차단 다이어트 쾌변 보조 식품, 100ml, 5개입</td>\n",
       "      <td>4</td>\n",
       "      <td>잘모르겠어요  흠</td>\n",
       "      <td>2020.08.07</td>\n",
       "      <td>1</td>\n",
       "      <td>0</td>\n",
       "    </tr>\n",
       "    <tr>\n",
       "      <th>...</th>\n",
       "      <td>...</td>\n",
       "      <td>...</td>\n",
       "      <td>...</td>\n",
       "      <td>...</td>\n",
       "      <td>...</td>\n",
       "      <td>...</td>\n",
       "    </tr>\n",
       "    <tr>\n",
       "      <th>10686</th>\n",
       "      <td>송원 몸이좋아하는 마테차 100T/우엉차/녹차</td>\n",
       "      <td>3</td>\n",
       "      <td>좋아요              사용자 연령대     사용용도   다이어트그 외 도움...</td>\n",
       "      <td>2013.08.27</td>\n",
       "      <td>0</td>\n",
       "      <td>1</td>\n",
       "    </tr>\n",
       "    <tr>\n",
       "      <th>10687</th>\n",
       "      <td>송원 몸이좋아하는 마테차 100T/우엉차/녹차</td>\n",
       "      <td>3</td>\n",
       "      <td>맛있어요 ㅎ 사용자 연령대   사용용도   그 외 도움이 될 만한 사용후기   첨에...</td>\n",
       "      <td>2014.05.03</td>\n",
       "      <td>0</td>\n",
       "      <td>1</td>\n",
       "    </tr>\n",
       "    <tr>\n",
       "      <th>10688</th>\n",
       "      <td>송원 몸이좋아하는 마테차 100T/우엉차/녹차</td>\n",
       "      <td>3</td>\n",
       "      <td>좋아요  좋아요  좋아요 좋아요  사용자 연령대     사용용도   차그 외 도움이...</td>\n",
       "      <td>2012.08.16</td>\n",
       "      <td>0</td>\n",
       "      <td>1</td>\n",
       "    </tr>\n",
       "    <tr>\n",
       "      <th>10689</th>\n",
       "      <td>송원 몸이좋아하는 마테차 100T/우엉차/녹차</td>\n",
       "      <td>3</td>\n",
       "      <td>다이어트하기엔 딱  ㅋ 재구매횟수 또는 기간   예   번째 구매   년째 단골맛 ...</td>\n",
       "      <td>2012.07.06</td>\n",
       "      <td>0</td>\n",
       "      <td>1</td>\n",
       "    </tr>\n",
       "    <tr>\n",
       "      <th>10690</th>\n",
       "      <td>슈퍼하트 파워클린 1개월분 쾌변 알로에전잎</td>\n",
       "      <td>3</td>\n",
       "      <td>똥 잘싸야 살이 안찐다 먹는것만치 비우는것도 중요  카스피해 유산균 몇년째인데   ...</td>\n",
       "      <td>2020.11.20</td>\n",
       "      <td>0</td>\n",
       "      <td>1</td>\n",
       "    </tr>\n",
       "  </tbody>\n",
       "</table>\n",
       "<p>38431 rows × 6 columns</p>\n",
       "</div>"
      ],
      "text/plain": [
       "                                          title  rating  \\\n",
       "0      클린24시간 탄수화물 차단 다이어트 쾌변 보조 식품, 100ml, 5개입       4   \n",
       "1      클린24시간 탄수화물 차단 다이어트 쾌변 보조 식품, 100ml, 5개입       4   \n",
       "2      클린24시간 탄수화물 차단 다이어트 쾌변 보조 식품, 100ml, 5개입       4   \n",
       "3      클린24시간 탄수화물 차단 다이어트 쾌변 보조 식품, 100ml, 5개입       4   \n",
       "4      클린24시간 탄수화물 차단 다이어트 쾌변 보조 식품, 100ml, 5개입       4   \n",
       "...                                         ...     ...   \n",
       "10686                 송원 몸이좋아하는 마테차 100T/우엉차/녹차       3   \n",
       "10687                 송원 몸이좋아하는 마테차 100T/우엉차/녹차       3   \n",
       "10688                 송원 몸이좋아하는 마테차 100T/우엉차/녹차       3   \n",
       "10689                 송원 몸이좋아하는 마테차 100T/우엉차/녹차       3   \n",
       "10690                   슈퍼하트 파워클린 1개월분 쾌변 알로에전잎       3   \n",
       "\n",
       "                                                  review        date  label  \\\n",
       "0      상품평 보고 구매하게 됐어요 개인마다 차이가 있겠지만 저는 첫날에는 아무 반응이 없...  2020.06.04      1   \n",
       "1                          대변 보려고 산건데    딱히배가 너무 아팠어요 ㅠㅠ  2020.10.22      1   \n",
       "2      몸 가볍게 하려고 구입했는데 하루 먹고 변은 안나오고 배만 가스차서 복어처럼 되면서...  2020.06.30      1   \n",
       "3      저는 별 효과가 없네요ㅜ 후기보고 기대하고 주문했는데ㅜ처음 먹고  한번 화장실가고는...  2020.02.07      1   \n",
       "4                                              잘모르겠어요  흠  2020.08.07      1   \n",
       "...                                                  ...         ...    ...   \n",
       "10686  좋아요              사용자 연령대     사용용도   다이어트그 외 도움...  2013.08.27      0   \n",
       "10687  맛있어요 ㅎ 사용자 연령대   사용용도   그 외 도움이 될 만한 사용후기   첨에...  2014.05.03      0   \n",
       "10688  좋아요  좋아요  좋아요 좋아요  사용자 연령대     사용용도   차그 외 도움이...  2012.08.16      0   \n",
       "10689  다이어트하기엔 딱  ㅋ 재구매횟수 또는 기간   예   번째 구매   년째 단골맛 ...  2012.07.06      0   \n",
       "10690  똥 잘싸야 살이 안찐다 먹는것만치 비우는것도 중요  카스피해 유산균 몇년째인데   ...  2020.11.20      0   \n",
       "\n",
       "       pred  \n",
       "0         0  \n",
       "1         0  \n",
       "2         0  \n",
       "3         0  \n",
       "4         0  \n",
       "...     ...  \n",
       "10686     1  \n",
       "10687     1  \n",
       "10688     1  \n",
       "10689     1  \n",
       "10690     1  \n",
       "\n",
       "[38431 rows x 6 columns]"
      ]
     },
     "execution_count": 12,
     "metadata": {},
     "output_type": "execute_result"
    }
   ],
   "source": [
    "reviews"
   ]
  },
  {
   "cell_type": "code",
   "execution_count": 13,
   "id": "meaning-recording",
   "metadata": {},
   "outputs": [
    {
     "data": {
      "text/plain": [
       "0        상품평 보고 구매하게 됐어요 개인마다 차이가 있겠지만 저는 첫날에는 아무 반응이 없...\n",
       "1                            대변 보려고 산건데    딱히배가 너무 아팠어요 ㅠㅠ\n",
       "2        몸 가볍게 하려고 구입했는데 하루 먹고 변은 안나오고 배만 가스차서 복어처럼 되면서...\n",
       "3        저는 별 효과가 없네요ㅜ 후기보고 기대하고 주문했는데ㅜ처음 먹고  한번 화장실가고는...\n",
       "4                                                잘모르겠어요  흠\n",
       "                               ...                        \n",
       "10686    좋아요              사용자 연령대     사용용도   다이어트그 외 도움...\n",
       "10687    맛있어요 ㅎ 사용자 연령대   사용용도   그 외 도움이 될 만한 사용후기   첨에...\n",
       "10688    좋아요  좋아요  좋아요 좋아요  사용자 연령대     사용용도   차그 외 도움이...\n",
       "10689    다이어트하기엔 딱  ㅋ 재구매횟수 또는 기간   예   번째 구매   년째 단골맛 ...\n",
       "10690    똥 잘싸야 살이 안찐다 먹는것만치 비우는것도 중요  카스피해 유산균 몇년째인데   ...\n",
       "Name: review, Length: 38431, dtype: object"
      ]
     },
     "execution_count": 13,
     "metadata": {},
     "output_type": "execute_result"
    }
   ],
   "source": [
    "reviews['review']"
   ]
  },
  {
   "cell_type": "code",
   "execution_count": 17,
   "id": "copyrighted-landing",
   "metadata": {
    "scrolled": false
   },
   "outputs": [
    {
     "name": "stderr",
     "output_type": "stream",
     "text": [
      "/home/ristajc/anaconda3/envs/dss/lib/python3.7/site-packages/ipykernel_launcher.py:1: SettingWithCopyWarning: \n",
      "A value is trying to be set on a copy of a slice from a DataFrame.\n",
      "Try using .loc[row_indexer,col_indexer] = value instead\n",
      "\n",
      "See the caveats in the documentation: https://pandas.pydata.org/pandas-docs/stable/user_guide/indexing.html#returning-a-view-versus-a-copy\n",
      "  \"\"\"Entry point for launching an IPython kernel.\n",
      "/home/ristajc/anaconda3/envs/dss/lib/python3.7/site-packages/ipykernel_launcher.py:2: SettingWithCopyWarning: \n",
      "A value is trying to be set on a copy of a slice from a DataFrame.\n",
      "Try using .loc[row_indexer,col_indexer] = value instead\n",
      "\n",
      "See the caveats in the documentation: https://pandas.pydata.org/pandas-docs/stable/user_guide/indexing.html#returning-a-view-versus-a-copy\n",
      "  \n"
     ]
    }
   ],
   "source": [
    "reviews['review'] = reviews['review'].apply(preprocessing)\n",
    "reviews['review'] = reviews['review'].apply(lambda x : re.sub(r\"\\d+\", \" \", x))"
   ]
  },
  {
   "cell_type": "code",
   "execution_count": 18,
   "id": "bridal-jordan",
   "metadata": {},
   "outputs": [],
   "source": [
    "from sklearn.model_selection import train_test_split\n",
    "\n",
    "features = reviews['review']\n",
    "labels = reviews['label']\n",
    "\n",
    "X_train, X_test, y_train, y_test = train_test_split(features, labels, test_size=0.2,\n",
    "                                                    random_state=13) "
   ]
  },
  {
   "cell_type": "code",
   "execution_count": 19,
   "id": "plain-lemon",
   "metadata": {
    "scrolled": true
   },
   "outputs": [
    {
     "name": "stderr",
     "output_type": "stream",
     "text": [
      "/home/ristajc/anaconda3/envs/dss/lib/python3.7/site-packages/sklearn/feature_extraction/text.py:484: UserWarning: The parameter 'token_pattern' will not be used since 'tokenizer' is not None'\n",
      "  warnings.warn(\"The parameter 'token_pattern' will not be used\"\n"
     ]
    }
   ],
   "source": [
    "from sklearn.feature_extraction.text import TfidfVectorizer\n",
    "\n",
    "tfidfv = TfidfVectorizer(tokenizer=me_tokenizer, stop_words=stopwords,\n",
    "                            ngram_range=(1,3), min_df=10, )\n",
    "tfidfv.fit(X_train)\n",
    "tfidf_matrix_train = tfidfv.transform(X_train)"
   ]
  },
  {
   "cell_type": "code",
   "execution_count": 20,
   "id": "legitimate-trading",
   "metadata": {},
   "outputs": [],
   "source": [
    "from sklearn.linear_model import SGDClassifier\n",
    "sgd_clf = SGDClassifier(random_state=13)"
   ]
  },
  {
   "cell_type": "code",
   "execution_count": 21,
   "id": "expired-corruption",
   "metadata": {},
   "outputs": [],
   "source": [
    "#confusion_matrix구하는 함수\n",
    "from sklearn.metrics import (accuracy_score, precision_score, recall_score, \n",
    "                            f1_score, roc_auc_score)\n",
    "\n",
    "def get_clf_eval(y_test, pred):\n",
    "    acc = accuracy_score(y_test, pred)\n",
    "    pre = precision_score(y_test, pred)\n",
    "    re = recall_score(y_test, pred)\n",
    "    f1 = f1_score(y_test, pred)\n",
    "    auc = roc_auc_score(y_test, pred)\n",
    "    \n",
    "    return acc, pre, re, f1, auc\n",
    "\n",
    "from sklearn.metrics import confusion_matrix\n",
    "\n",
    "\n",
    "def print_clf_eval(y_test, pred):\n",
    "    confusion = confusion_matrix(y_test, pred)\n",
    "    acc, pre, re, f1, auc = get_clf_eval(y_test, pred)\n",
    "    \n",
    "    print('=> confusion matrix')\n",
    "    print(confusion)\n",
    "    \n",
    "    \n",
    "    print('Accuracy: {0:.4f}, Precision: {1:.4f}'.format(acc, pre))\n",
    "    print('Recall: {0:.4f}, F1: {1:.4f}, AUC:{2:.4f}'.format(re, f1, auc))\n",
    "    print('=======================================')"
   ]
  },
  {
   "cell_type": "code",
   "execution_count": 22,
   "id": "distant-volunteer",
   "metadata": {},
   "outputs": [
    {
     "name": "stdout",
     "output_type": "stream",
     "text": [
      "train :  0.8800130208333333 test:  0.8419270833333333\n"
     ]
    }
   ],
   "source": [
    "from sklearn.metrics import accuracy_score\n",
    "\n",
    "sgd_clf.fit(tfidf_matrix_train, y_train)\n",
    "tfidf_matrix_test = tfidfv.transform(X_test)\n",
    "pred = sgd_clf.predict(tfidf_matrix_train)\n",
    "tpred= sgd_clf.predict(tfidf_matrix_test)\n",
    "    \n",
    "print('train : ',accuracy_score(y_train, pred),'test: ',accuracy_score(y_test,tpred))"
   ]
  },
  {
   "cell_type": "code",
   "execution_count": 23,
   "id": "representative-louis",
   "metadata": {},
   "outputs": [
    {
     "name": "stdout",
     "output_type": "stream",
     "text": [
      "=> confusion matrix\n",
      "[[ 5444  3090]\n",
      " [  596 21590]]\n",
      "Accuracy: 0.8800, Precision: 0.8748\n",
      "Recall: 0.9731, F1: 0.9214, AUC:0.8055\n",
      "=======================================\n",
      "=> confusion matrix\n",
      "[[1169  979]\n",
      " [ 235 5297]]\n",
      "Accuracy: 0.8419, Precision: 0.8440\n",
      "Recall: 0.9575, F1: 0.8972, AUC:0.7509\n",
      "=======================================\n"
     ]
    },
    {
     "data": {
      "text/plain": [
       "(None, None)"
      ]
     },
     "execution_count": 23,
     "metadata": {},
     "output_type": "execute_result"
    }
   ],
   "source": [
    "print_clf_eval(y_train, pred), print_clf_eval(y_test, tpred)"
   ]
  },
  {
   "cell_type": "markdown",
   "id": "collected-sacramento",
   "metadata": {},
   "source": [
    "K-fold 교차검증"
   ]
  },
  {
   "cell_type": "code",
   "execution_count": 24,
   "id": "minus-navigator",
   "metadata": {},
   "outputs": [
    {
     "name": "stdout",
     "output_type": "stream",
     "text": [
      "train : [0.83984375 0.83902995 0.83691406 0.84082031 0.85026042]\n"
     ]
    }
   ],
   "source": [
    "from sklearn.model_selection import cross_val_score\n",
    "print('train :',cross_val_score(sgd_clf, tfidf_matrix_train, y_train, cv=5, scoring=\"accuracy\"))"
   ]
  },
  {
   "cell_type": "code",
   "execution_count": 25,
   "id": "dominant-rochester",
   "metadata": {},
   "outputs": [
    {
     "name": "stdout",
     "output_type": "stream",
     "text": [
      "train : 0.8413736979166666 test : 0.8419270833333333\n"
     ]
    }
   ],
   "source": [
    "print('train :',cross_val_score(sgd_clf, tfidf_matrix_train, y_train, cv=5, scoring=\"accuracy\").mean(),\n",
    "      'test :',accuracy_score(y_test,tpred))"
   ]
  },
  {
   "cell_type": "code",
   "execution_count": 26,
   "id": "white-pillow",
   "metadata": {},
   "outputs": [
    {
     "name": "stdout",
     "output_type": "stream",
     "text": [
      "과적합여부 :  0.05533854166667185 %\n"
     ]
    }
   ],
   "source": [
    "print('과적합여부 : ',(accuracy_score(y_test,tpred) - \\\n",
    "       cross_val_score(sgd_clf, tfidf_matrix_train, y_train, cv=5, scoring=\"accuracy\").mean()) * 100, '%' )"
   ]
  },
  {
   "cell_type": "markdown",
   "id": "trying-generator",
   "metadata": {},
   "source": [
    "다양한 함수적용"
   ]
  },
  {
   "cell_type": "code",
   "execution_count": 27,
   "id": "secret-worst",
   "metadata": {},
   "outputs": [],
   "source": [
    "from sklearn.naive_bayes import MultinomialNB\n",
    "from sklearn.ensemble import RandomForestClassifier\n",
    "from sklearn.tree import DecisionTreeClassifier\n",
    "from sklearn.linear_model import SGDClassifier\n",
    "from sklearn.ensemble import VotingClassifier\n",
    "from sklearn.neighbors import KNeighborsClassifier\n",
    "from sklearn.metrics import accuracy_score"
   ]
  },
  {
   "cell_type": "code",
   "execution_count": 28,
   "id": "recent-render",
   "metadata": {},
   "outputs": [
    {
     "data": {
      "text/plain": [
       "VotingClassifier(estimators=[('sgb', SGDClassifier(random_state=13)),\n",
       "                             ('tree',\n",
       "                              DecisionTreeClassifier(max_depth=6,\n",
       "                                                     random_state=13)),\n",
       "                             ('rnd',\n",
       "                              RandomForestClassifier(max_depth=6,\n",
       "                                                     n_estimators=400,\n",
       "                                                     random_state=13)),\n",
       "                             ('NB', MultinomialNB()),\n",
       "                             ('knc', KNeighborsClassifier(n_neighbors=9))])"
      ]
     },
     "execution_count": 28,
     "metadata": {},
     "output_type": "execute_result"
    }
   ],
   "source": [
    "sgd_clf = SGDClassifier(random_state=13)\n",
    "tree_clf = DecisionTreeClassifier(max_depth=6, random_state=13)\n",
    "rnd_clf = RandomForestClassifier(max_depth=6,  n_estimators=400, random_state=13)\n",
    "NB_clf = MultinomialNB()\n",
    "knc_clf = KNeighborsClassifier(n_neighbors=9)\n",
    "\n",
    "\n",
    "voting_clf = VotingClassifier(\n",
    "    estimators=[('sgb', sgd_clf), ('tree', tree_clf),\n",
    "                   ('rnd', rnd_clf), ('NB', NB_clf), ('knc', knc_clf)], \n",
    "                voting='hard')\n",
    "voting_clf.fit(tfidf_matrix_train, y_train)"
   ]
  },
  {
   "cell_type": "markdown",
   "id": "advanced-kitty",
   "metadata": {},
   "source": [
    "train_datas"
   ]
  },
  {
   "cell_type": "code",
   "execution_count": 29,
   "id": "acoustic-roller",
   "metadata": {},
   "outputs": [],
   "source": [
    "from sklearn.metrics import (accuracy_score, precision_score, recall_score, f1_score, roc_auc_score)\n",
    "from sklearn.metrics import confusion_matrix\n",
    "\n",
    "def get_clf_eval(y_train, pred):\n",
    "    acc = accuracy_score(y_train, pred)\n",
    "    pre = precision_score(y_train, pred)\n",
    "    re = recall_score(y_train, pred)\n",
    "    f1 = f1_score(y_train, pred)\n",
    "    auc = roc_auc_score(y_train, pred)\n",
    "    \n",
    "    return acc, pre, re, f1, auc\n",
    "\n",
    "\n",
    "def print_clf_eval(y_train, pred):\n",
    "    confusion = confusion_matrix(y_train, pred)\n",
    "    acc, pre, re, f1, auc = get_clf_eval(y_train, pred)\n",
    "    \n",
    "    print('=> confusion matrix')\n",
    "    print(confusion)\n",
    "    \n",
    "    \n",
    "    print('Accuracy: {0:.4f}, Precision: {1:.4f}'.format(acc, pre))\n",
    "    print('Recall: {0:.4f}, F1: {1:.4f}, AUC:{2:.4f}'.format(re, f1, auc))\n",
    "    print('=======================================')"
   ]
  },
  {
   "cell_type": "code",
   "execution_count": 30,
   "id": "mediterranean-blowing",
   "metadata": {},
   "outputs": [
    {
     "name": "stdout",
     "output_type": "stream",
     "text": [
      "SGDClassifier 0.8800130208333333\n",
      "=> confusion matrix\n",
      "[[ 5444  3090]\n",
      " [  596 21590]]\n",
      "Accuracy: 0.8800, Precision: 0.8748\n",
      "Recall: 0.9731, F1: 0.9214, AUC:0.8055\n",
      "=======================================\n",
      "---------------------------------------\n",
      "DecisionTreeClassifier 0.7681966145833333\n",
      "=> confusion matrix\n",
      "[[ 3163  5371]\n",
      " [ 1750 20436]]\n",
      "Accuracy: 0.7682, Precision: 0.7919\n",
      "Recall: 0.9211, F1: 0.8516, AUC:0.6459\n",
      "=======================================\n",
      "---------------------------------------\n",
      "RandomForestClassifier 0.7222005208333333\n",
      "=> confusion matrix\n",
      "[[    0  8534]\n",
      " [    0 22186]]\n",
      "Accuracy: 0.7222, Precision: 0.7222\n",
      "Recall: 1.0000, F1: 0.8387, AUC:0.5000\n",
      "=======================================\n",
      "---------------------------------------\n",
      "MultinomialNB 0.8591145833333333\n",
      "=> confusion matrix\n",
      "[[ 4805  3729]\n",
      " [  599 21587]]\n",
      "Accuracy: 0.8591, Precision: 0.8527\n",
      "Recall: 0.9730, F1: 0.9089, AUC:0.7680\n",
      "=======================================\n",
      "---------------------------------------\n",
      "KNeighborsClassifier 0.7557942708333333\n",
      "=> confusion matrix\n",
      "[[ 2406  6128]\n",
      " [ 1374 20812]]\n",
      "Accuracy: 0.7558, Precision: 0.7725\n",
      "Recall: 0.9381, F1: 0.8473, AUC:0.6100\n",
      "=======================================\n",
      "---------------------------------------\n",
      "VotingClassifier 0.815625\n",
      "=> confusion matrix\n",
      "[[ 3117  5417]\n",
      " [  247 21939]]\n",
      "Accuracy: 0.8156, Precision: 0.8020\n",
      "Recall: 0.9889, F1: 0.8857, AUC:0.6771\n",
      "=======================================\n",
      "---------------------------------------\n"
     ]
    }
   ],
   "source": [
    "for clf in (sgd_clf, tree_clf, rnd_clf, NB_clf, knc_clf, voting_clf):\n",
    "    clf.fit(tfidf_matrix_train, y_train)\n",
    "    pred = clf.predict(tfidf_matrix_train)\n",
    "    \n",
    "    print(clf.__class__.__name__, accuracy_score(y_train, pred))\n",
    "    print_clf_eval(y_train, pred)\n",
    "    print('---------------------------------------')"
   ]
  },
  {
   "cell_type": "markdown",
   "id": "distributed-converter",
   "metadata": {},
   "source": [
    "### G마켓 적용\n",
    "- 별점없는 리뷰, 긍정 부정 예측"
   ]
  },
  {
   "cell_type": "code",
   "execution_count": 29,
   "id": "prompt-stockholm",
   "metadata": {},
   "outputs": [],
   "source": [
    "gmarket = pd.read_csv('datas/test1.csv')"
   ]
  },
  {
   "cell_type": "code",
   "execution_count": 30,
   "id": "portuguese-natural",
   "metadata": {},
   "outputs": [
    {
     "data": {
      "text/html": [
       "<div>\n",
       "<style scoped>\n",
       "    .dataframe tbody tr th:only-of-type {\n",
       "        vertical-align: middle;\n",
       "    }\n",
       "\n",
       "    .dataframe tbody tr th {\n",
       "        vertical-align: top;\n",
       "    }\n",
       "\n",
       "    .dataframe thead th {\n",
       "        text-align: right;\n",
       "    }\n",
       "</style>\n",
       "<table border=\"1\" class=\"dataframe\">\n",
       "  <thead>\n",
       "    <tr style=\"text-align: right;\">\n",
       "      <th></th>\n",
       "      <th>title</th>\n",
       "      <th>date</th>\n",
       "      <th>rating</th>\n",
       "      <th>review</th>\n",
       "    </tr>\n",
       "  </thead>\n",
       "  <tbody>\n",
       "    <tr>\n",
       "      <th>0</th>\n",
       "      <td>[뉴트리디데이] 다이어트 스페셜 올뉴 A++ 4병 4개월분</td>\n",
       "      <td>{'2020.09.26'}</td>\n",
       "      <td>-</td>\n",
       "      <td>다욧위해 열시미 먹고있어요</td>\n",
       "    </tr>\n",
       "    <tr>\n",
       "      <th>1</th>\n",
       "      <td>[뉴트리디데이] 다이어트 스페셜 올뉴 A++ 4병 4개월분</td>\n",
       "      <td>{'2020.09.23'}</td>\n",
       "      <td>-</td>\n",
       "      <td>뉴트리 디데이 다이어트</td>\n",
       "    </tr>\n",
       "    <tr>\n",
       "      <th>2</th>\n",
       "      <td>[뉴트리디데이] 다이어트 스페셜 올뉴 A++ 4병 4개월분</td>\n",
       "      <td>{'2020.09.23'}</td>\n",
       "      <td>-</td>\n",
       "      <td>뉴트리디데이 다이어트 .</td>\n",
       "    </tr>\n",
       "    <tr>\n",
       "      <th>3</th>\n",
       "      <td>[뉴트리디데이] 다이어트 스페셜 올뉴 A++ 4병 4개월분</td>\n",
       "      <td>{'2020.09.19'}</td>\n",
       "      <td>-</td>\n",
       "      <td>저는딸과함께먹는데브ㅡㄱ용한지는오래되었고요.딸도먹일정도로안전하고효과도잘보고있는데쿠폰행...</td>\n",
       "    </tr>\n",
       "    <tr>\n",
       "      <th>4</th>\n",
       "      <td>[뉴트리디데이] 다이어트 스페셜 올뉴 A++ 4병 4개월분</td>\n",
       "      <td>{'2020.09.19'}</td>\n",
       "      <td>-</td>\n",
       "      <td>효과 기대되네요 빠른 배송 감사합니다</td>\n",
       "    </tr>\n",
       "    <tr>\n",
       "      <th>...</th>\n",
       "      <td>...</td>\n",
       "      <td>...</td>\n",
       "      <td>...</td>\n",
       "      <td>...</td>\n",
       "    </tr>\n",
       "    <tr>\n",
       "      <th>10828</th>\n",
       "      <td>[순수식품] 진짜 석류 콜라겐 젤리 스틱 3박스(총 45포) 300달톤</td>\n",
       "      <td>{'2020.11.06'}</td>\n",
       "      <td>-</td>\n",
       "      <td>잘 받으셨다요\\n엄마가 간식으로 즐겨드심</td>\n",
       "    </tr>\n",
       "    <tr>\n",
       "      <th>10829</th>\n",
       "      <td>[순수식품] 진짜 석류 콜라겐 젤리 스틱 3박스(총 45포) 300달톤</td>\n",
       "      <td>{'2020.11.06'}</td>\n",
       "      <td>-</td>\n",
       "      <td>배송 빠르고 저렴합니다</td>\n",
       "    </tr>\n",
       "    <tr>\n",
       "      <th>10830</th>\n",
       "      <td>[순수식품] 진짜 석류 콜라겐 젤리 스틱 3박스(총 45포) 300달톤</td>\n",
       "      <td>{'2020.11.06'}</td>\n",
       "      <td>-</td>\n",
       "      <td>엄마 드시라고 한박스 더 주문합니다</td>\n",
       "    </tr>\n",
       "    <tr>\n",
       "      <th>10831</th>\n",
       "      <td>[순수식품] 진짜 석류 콜라겐 젤리 스틱 3박스(총 45포) 300달톤</td>\n",
       "      <td>{'2020.11.06'}</td>\n",
       "      <td>-</td>\n",
       "      <td>탱글탱글 쫀득쫀득 맛나네요</td>\n",
       "    </tr>\n",
       "    <tr>\n",
       "      <th>10832</th>\n",
       "      <td>[순수식품] 진짜 석류 콜라겐 젤리 스틱 3박스(총 45포) 300달톤</td>\n",
       "      <td>{'2020.11.06'}</td>\n",
       "      <td>-</td>\n",
       "      <td>늘 만족스럽게 잘 먹고 싶어요~^^</td>\n",
       "    </tr>\n",
       "  </tbody>\n",
       "</table>\n",
       "<p>10833 rows × 4 columns</p>\n",
       "</div>"
      ],
      "text/plain": [
       "                                          title            date rating  \\\n",
       "0             [뉴트리디데이] 다이어트 스페셜 올뉴 A++ 4병 4개월분   {'2020.09.26'}      -   \n",
       "1             [뉴트리디데이] 다이어트 스페셜 올뉴 A++ 4병 4개월분   {'2020.09.23'}      -   \n",
       "2             [뉴트리디데이] 다이어트 스페셜 올뉴 A++ 4병 4개월분   {'2020.09.23'}      -   \n",
       "3             [뉴트리디데이] 다이어트 스페셜 올뉴 A++ 4병 4개월분   {'2020.09.19'}      -   \n",
       "4             [뉴트리디데이] 다이어트 스페셜 올뉴 A++ 4병 4개월분   {'2020.09.19'}      -   \n",
       "...                                         ...             ...    ...   \n",
       "10828  [순수식품] 진짜 석류 콜라겐 젤리 스틱 3박스(총 45포) 300달톤   {'2020.11.06'}      -   \n",
       "10829  [순수식품] 진짜 석류 콜라겐 젤리 스틱 3박스(총 45포) 300달톤   {'2020.11.06'}      -   \n",
       "10830  [순수식품] 진짜 석류 콜라겐 젤리 스틱 3박스(총 45포) 300달톤   {'2020.11.06'}      -   \n",
       "10831  [순수식품] 진짜 석류 콜라겐 젤리 스틱 3박스(총 45포) 300달톤   {'2020.11.06'}      -   \n",
       "10832  [순수식품] 진짜 석류 콜라겐 젤리 스틱 3박스(총 45포) 300달톤   {'2020.11.06'}      -   \n",
       "\n",
       "                                                  review  \n",
       "0                                         다욧위해 열시미 먹고있어요  \n",
       "1                                           뉴트리 디데이 다이어트  \n",
       "2                                          뉴트리디데이 다이어트 .  \n",
       "3      저는딸과함께먹는데브ㅡㄱ용한지는오래되었고요.딸도먹일정도로안전하고효과도잘보고있는데쿠폰행...  \n",
       "4                                   효과 기대되네요 빠른 배송 감사합니다  \n",
       "...                                                  ...  \n",
       "10828                             잘 받으셨다요\\n엄마가 간식으로 즐겨드심  \n",
       "10829                                       배송 빠르고 저렴합니다  \n",
       "10830                                엄마 드시라고 한박스 더 주문합니다  \n",
       "10831                                     탱글탱글 쫀득쫀득 맛나네요  \n",
       "10832                                늘 만족스럽게 잘 먹고 싶어요~^^  \n",
       "\n",
       "[10833 rows x 4 columns]"
      ]
     },
     "execution_count": 30,
     "metadata": {},
     "output_type": "execute_result"
    }
   ],
   "source": [
    "gmarket.drop(columns=['Unnamed: 0'])"
   ]
  },
  {
   "cell_type": "code",
   "execution_count": 32,
   "id": "united-particular",
   "metadata": {},
   "outputs": [],
   "source": [
    "gmarket_tfidf = tfidfv.transform(gmarket['review'])"
   ]
  },
  {
   "cell_type": "code",
   "execution_count": 33,
   "id": "applied-billy",
   "metadata": {},
   "outputs": [],
   "source": [
    "g_preds = sgd_clf.predict(gmarket_tfidf)"
   ]
  },
  {
   "cell_type": "code",
   "execution_count": 34,
   "id": "threaded-starter",
   "metadata": {},
   "outputs": [],
   "source": [
    "gmarket['pred'] = g_preds"
   ]
  },
  {
   "cell_type": "code",
   "execution_count": 36,
   "id": "demanding-collective",
   "metadata": {},
   "outputs": [],
   "source": [
    "gmarket = gmarket.drop(columns=['Unnamed: 0'])"
   ]
  },
  {
   "cell_type": "code",
   "execution_count": 37,
   "id": "martial-electron",
   "metadata": {},
   "outputs": [
    {
     "data": {
      "text/html": [
       "<div>\n",
       "<style scoped>\n",
       "    .dataframe tbody tr th:only-of-type {\n",
       "        vertical-align: middle;\n",
       "    }\n",
       "\n",
       "    .dataframe tbody tr th {\n",
       "        vertical-align: top;\n",
       "    }\n",
       "\n",
       "    .dataframe thead th {\n",
       "        text-align: right;\n",
       "    }\n",
       "</style>\n",
       "<table border=\"1\" class=\"dataframe\">\n",
       "  <thead>\n",
       "    <tr style=\"text-align: right;\">\n",
       "      <th></th>\n",
       "      <th>title</th>\n",
       "      <th>date</th>\n",
       "      <th>rating</th>\n",
       "      <th>review</th>\n",
       "      <th>pred</th>\n",
       "    </tr>\n",
       "  </thead>\n",
       "  <tbody>\n",
       "    <tr>\n",
       "      <th>0</th>\n",
       "      <td>[뉴트리디데이] 다이어트 스페셜 올뉴 A++ 4병 4개월분</td>\n",
       "      <td>{'2020.09.26'}</td>\n",
       "      <td>-</td>\n",
       "      <td>다욧위해 열시미 먹고있어요</td>\n",
       "      <td>1</td>\n",
       "    </tr>\n",
       "    <tr>\n",
       "      <th>1</th>\n",
       "      <td>[뉴트리디데이] 다이어트 스페셜 올뉴 A++ 4병 4개월분</td>\n",
       "      <td>{'2020.09.23'}</td>\n",
       "      <td>-</td>\n",
       "      <td>뉴트리 디데이 다이어트</td>\n",
       "      <td>1</td>\n",
       "    </tr>\n",
       "    <tr>\n",
       "      <th>2</th>\n",
       "      <td>[뉴트리디데이] 다이어트 스페셜 올뉴 A++ 4병 4개월분</td>\n",
       "      <td>{'2020.09.23'}</td>\n",
       "      <td>-</td>\n",
       "      <td>뉴트리디데이 다이어트 .</td>\n",
       "      <td>1</td>\n",
       "    </tr>\n",
       "    <tr>\n",
       "      <th>3</th>\n",
       "      <td>[뉴트리디데이] 다이어트 스페셜 올뉴 A++ 4병 4개월분</td>\n",
       "      <td>{'2020.09.19'}</td>\n",
       "      <td>-</td>\n",
       "      <td>저는딸과함께먹는데브ㅡㄱ용한지는오래되었고요.딸도먹일정도로안전하고효과도잘보고있는데쿠폰행...</td>\n",
       "      <td>1</td>\n",
       "    </tr>\n",
       "    <tr>\n",
       "      <th>4</th>\n",
       "      <td>[뉴트리디데이] 다이어트 스페셜 올뉴 A++ 4병 4개월분</td>\n",
       "      <td>{'2020.09.19'}</td>\n",
       "      <td>-</td>\n",
       "      <td>효과 기대되네요 빠른 배송 감사합니다</td>\n",
       "      <td>1</td>\n",
       "    </tr>\n",
       "    <tr>\n",
       "      <th>...</th>\n",
       "      <td>...</td>\n",
       "      <td>...</td>\n",
       "      <td>...</td>\n",
       "      <td>...</td>\n",
       "      <td>...</td>\n",
       "    </tr>\n",
       "    <tr>\n",
       "      <th>10828</th>\n",
       "      <td>[순수식품] 진짜 석류 콜라겐 젤리 스틱 3박스(총 45포) 300달톤</td>\n",
       "      <td>{'2020.11.06'}</td>\n",
       "      <td>-</td>\n",
       "      <td>잘 받으셨다요\\n엄마가 간식으로 즐겨드심</td>\n",
       "      <td>1</td>\n",
       "    </tr>\n",
       "    <tr>\n",
       "      <th>10829</th>\n",
       "      <td>[순수식품] 진짜 석류 콜라겐 젤리 스틱 3박스(총 45포) 300달톤</td>\n",
       "      <td>{'2020.11.06'}</td>\n",
       "      <td>-</td>\n",
       "      <td>배송 빠르고 저렴합니다</td>\n",
       "      <td>1</td>\n",
       "    </tr>\n",
       "    <tr>\n",
       "      <th>10830</th>\n",
       "      <td>[순수식품] 진짜 석류 콜라겐 젤리 스틱 3박스(총 45포) 300달톤</td>\n",
       "      <td>{'2020.11.06'}</td>\n",
       "      <td>-</td>\n",
       "      <td>엄마 드시라고 한박스 더 주문합니다</td>\n",
       "      <td>1</td>\n",
       "    </tr>\n",
       "    <tr>\n",
       "      <th>10831</th>\n",
       "      <td>[순수식품] 진짜 석류 콜라겐 젤리 스틱 3박스(총 45포) 300달톤</td>\n",
       "      <td>{'2020.11.06'}</td>\n",
       "      <td>-</td>\n",
       "      <td>탱글탱글 쫀득쫀득 맛나네요</td>\n",
       "      <td>1</td>\n",
       "    </tr>\n",
       "    <tr>\n",
       "      <th>10832</th>\n",
       "      <td>[순수식품] 진짜 석류 콜라겐 젤리 스틱 3박스(총 45포) 300달톤</td>\n",
       "      <td>{'2020.11.06'}</td>\n",
       "      <td>-</td>\n",
       "      <td>늘 만족스럽게 잘 먹고 싶어요~^^</td>\n",
       "      <td>1</td>\n",
       "    </tr>\n",
       "  </tbody>\n",
       "</table>\n",
       "<p>10833 rows × 5 columns</p>\n",
       "</div>"
      ],
      "text/plain": [
       "                                          title            date rating  \\\n",
       "0             [뉴트리디데이] 다이어트 스페셜 올뉴 A++ 4병 4개월분   {'2020.09.26'}      -   \n",
       "1             [뉴트리디데이] 다이어트 스페셜 올뉴 A++ 4병 4개월분   {'2020.09.23'}      -   \n",
       "2             [뉴트리디데이] 다이어트 스페셜 올뉴 A++ 4병 4개월분   {'2020.09.23'}      -   \n",
       "3             [뉴트리디데이] 다이어트 스페셜 올뉴 A++ 4병 4개월분   {'2020.09.19'}      -   \n",
       "4             [뉴트리디데이] 다이어트 스페셜 올뉴 A++ 4병 4개월분   {'2020.09.19'}      -   \n",
       "...                                         ...             ...    ...   \n",
       "10828  [순수식품] 진짜 석류 콜라겐 젤리 스틱 3박스(총 45포) 300달톤   {'2020.11.06'}      -   \n",
       "10829  [순수식품] 진짜 석류 콜라겐 젤리 스틱 3박스(총 45포) 300달톤   {'2020.11.06'}      -   \n",
       "10830  [순수식품] 진짜 석류 콜라겐 젤리 스틱 3박스(총 45포) 300달톤   {'2020.11.06'}      -   \n",
       "10831  [순수식품] 진짜 석류 콜라겐 젤리 스틱 3박스(총 45포) 300달톤   {'2020.11.06'}      -   \n",
       "10832  [순수식품] 진짜 석류 콜라겐 젤리 스틱 3박스(총 45포) 300달톤   {'2020.11.06'}      -   \n",
       "\n",
       "                                                  review  pred  \n",
       "0                                         다욧위해 열시미 먹고있어요     1  \n",
       "1                                           뉴트리 디데이 다이어트     1  \n",
       "2                                          뉴트리디데이 다이어트 .     1  \n",
       "3      저는딸과함께먹는데브ㅡㄱ용한지는오래되었고요.딸도먹일정도로안전하고효과도잘보고있는데쿠폰행...     1  \n",
       "4                                   효과 기대되네요 빠른 배송 감사합니다     1  \n",
       "...                                                  ...   ...  \n",
       "10828                             잘 받으셨다요\\n엄마가 간식으로 즐겨드심     1  \n",
       "10829                                       배송 빠르고 저렴합니다     1  \n",
       "10830                                엄마 드시라고 한박스 더 주문합니다     1  \n",
       "10831                                     탱글탱글 쫀득쫀득 맛나네요     1  \n",
       "10832                                늘 만족스럽게 잘 먹고 싶어요~^^     1  \n",
       "\n",
       "[10833 rows x 5 columns]"
      ]
     },
     "execution_count": 37,
     "metadata": {},
     "output_type": "execute_result"
    }
   ],
   "source": [
    "gmarket"
   ]
  },
  {
   "cell_type": "code",
   "execution_count": 38,
   "id": "spread-timer",
   "metadata": {},
   "outputs": [],
   "source": [
    "gmarket_pos = gmarket[gmarket['pred'] == 1]\n",
    "gmarket_neg = gmarket[gmarket['pred'] == 0]"
   ]
  },
  {
   "cell_type": "code",
   "execution_count": 39,
   "id": "brown-times",
   "metadata": {},
   "outputs": [],
   "source": [
    "from wordcloud import WordCloud, ImageColorGenerator"
   ]
  },
  {
   "cell_type": "code",
   "execution_count": 41,
   "id": "massive-bridges",
   "metadata": {},
   "outputs": [],
   "source": [
    "# 상품별로 나타내기\n",
    "title = gmarket_pos.groupby(by='title').sum()"
   ]
  },
  {
   "cell_type": "code",
   "execution_count": 42,
   "id": "asian-spouse",
   "metadata": {},
   "outputs": [
    {
     "data": {
      "text/plain": [
       "Index(['2개사면 +2개 더/이지퀵다이어트식품/뱃살감량/S라인 ',\n",
       "       '[GNM자연의품격] 석류 콜라겐 젤리 스틱 3박스(총45포) 석류즙 300달톤 ',\n",
       "       '[뉴트리] 에버콜라겐 인앤업 플러스 18주(6주X3병)+오메가3증정 ',\n",
       "       '[뉴트리디데이] 다이어트 스페셜 올뉴 A++ 4병 4개월분 ',\n",
       "       '[순수식품] 진짜 석류 콜라겐 젤리 스틱 3박스(총 45포) 300달톤 ',\n",
       "       '[조아제약] 장에 좋은 생유산균12 6박스(6개월분)/장건강/유산균 ',\n",
       "       '라이프케어 저분자 피쉬콜라겐C 180포 (총 2통) ', '에스란 3~4개월+4주분/순식물성/라인자신감/매일 쏘옥 ',\n",
       "       '한끼곤약젤리 복숭아 150ml 1팩 곤약젤리 '],\n",
       "      dtype='object', name='title')"
      ]
     },
     "execution_count": 42,
     "metadata": {},
     "output_type": "execute_result"
    }
   ],
   "source": [
    "title.index"
   ]
  },
  {
   "cell_type": "code",
   "execution_count": 43,
   "id": "fatty-breathing",
   "metadata": {},
   "outputs": [],
   "source": [
    "import warnings\n",
    "import nltk\n",
    "warnings.filterwarnings(action='ignore')"
   ]
  },
  {
   "cell_type": "code",
   "execution_count": 65,
   "id": "planned-norway",
   "metadata": {},
   "outputs": [],
   "source": [
    "import matplotlib.pyplot as plt\n",
    "import matplotlib.font_manager as fm\n",
    "\n",
    "path = '/usr/share/fonts/truetype/nanum/NanumMyeongjo.ttf'\n",
    "fontprop = fm.FontProperties(fname=path, size=18)"
   ]
  },
  {
   "cell_type": "code",
   "execution_count": 63,
   "id": "juvenile-defendant",
   "metadata": {},
   "outputs": [],
   "source": [
    "import matplotlib.pyplot as plt\n",
    "from matplotlib import font_manager, rc\n",
    "plt.rcParams['axes.unicode_minus'] = False\n",
    "\n",
    "f_path =  '/usr/share/fonts/truetype/nanum/NanumBarunGothicLight.ttf'\n",
    "\n",
    "\n",
    "font_name = font_manager.FontProperties(fname=f_path).get_name()\n",
    "\n",
    "rc('font', family=font_name)"
   ]
  },
  {
   "cell_type": "code",
   "execution_count": 57,
   "id": "mechanical-frank",
   "metadata": {},
   "outputs": [],
   "source": [
    "import numpy as np\n",
    "from PIL import Image\n",
    "custom_mask = np.array(Image.open('datas/krabby.png'))"
   ]
  },
  {
   "cell_type": "markdown",
   "id": "representative-dodge",
   "metadata": {},
   "source": [
    "긍정리뷰 wordcloud"
   ]
  },
  {
   "cell_type": "code",
   "execution_count": 80,
   "id": "agreed-muscle",
   "metadata": {},
   "outputs": [
    {
     "data": {
      "image/png": "[encoded data removed]",
      "text/plain": [
       "<Figure size 576x360 with 1 Axes>"
      ]
     },
     "metadata": {
      "needs_background": "light"
     },
     "output_type": "display_data"
    },
    {
     "data": {
      "image/png": "[encoded data removed]",
      "text/plain": [
       "<Figure size 576x216 with 1 Axes>"
      ]
     },
     "metadata": {
      "needs_background": "light"
     },
     "output_type": "display_data"
    },
    {
     "name": "stdout",
     "output_type": "stream",
     "text": [
      "1\n",
      "겨울이라서 지방을 축적하나 싶어서 다이어트 도전하느라 먹었던 이지퀵~\n",
      "현재 4키로 빠지고 재구매했습니다 ㅋㅋ안할래야 안할수가..ㅋㅋㅋ\n",
      "먹어보니 이거만큼 좋은게 없는거같아여\n",
      "이지퀵 먹으면서 운동도 같이 하니까 효과가 더 빨리오는거같네요\n",
      "살이 쭉쭉쭉ㅋㅋㅋ몸무게 올라갈때마다 기분이 좋습니다.\n",
      "여기서 3키로는 금방 더 뺄 수 있을거같네용!!\n",
      "2\n",
      "이지퀵다이어트 후기입니다.\n",
      "몇 년 째 계속 복용중인데, 효과는 모르겠지만 끊을 수가 없네요 ㅋㅋ\n",
      "그만 먹으면 바로 살이 붙을 것 같은 무서운 느낌..;;\n",
      "다 심리적인 효과 때문인 것 같기도 하지만.\n",
      "다이어트에 작은 부분이라도 도움이 되면 된거죠.\n",
      "가격이 부담되어 끊으려다가 또 주문했습니다.\n",
      "3\n",
      "이것저것 다이어트 다해보다가 최근에 날씬해진 직원 비법물어보니 이지퀵 말하길래 구매했어요.   뱃살에는 확실히 효과있는지..뱃살이 꽉 끼던 유니폼 바지가 덜 죄여서 살맛나요.\n"
     ]
    }
   ],
   "source": [
    "for num in range(1):\n",
    "    df = gmarket_pos[gmarket_pos['title'] == title.index[num]]\n",
    "    words = []\n",
    "    for data in df.review:\n",
    "        words.extend(mecab.nouns(data))\n",
    "    new_nouns = [each_word for each_word in words if each_word not in stopwords]\n",
    "    words = nltk.Text(new_nouns, name='words')\n",
    "    data = words.vocab().most_common(100)\n",
    "    wc = WordCloud(font_path='/usr/share/fonts/truetype/nanum/NanumMyeongjoExtraBold.ttf',\n",
    "                          mask=custom_mask,\n",
    "                          background_color='white',margin=1,contour_width=1,contour_color='firebrick',colormap='Set2').generate_from_frequencies(dict(data))\n",
    "    plt.figure(figsize=(8,5))\n",
    "    plt.imshow(wc,\n",
    "          interpolation='bilinear')\n",
    "    plt.axis('off')\n",
    "    plt.show()\n",
    "    worddf = pd.DataFrame(data,columns=['word','count'])\n",
    "    fig, ax = plt.subplots(figsize=(8,3))\n",
    "    worddf[:10].sort_values(by='count').plot.barh(x='word',\n",
    "                                           y='count',\n",
    "                                           ax=ax,\n",
    "                                           color='purple')\n",
    "\n",
    "    plt.show()\n",
    "    wordrank = []\n",
    "    for num in range(10):\n",
    "        wordrank.append(worddf.word[num])\n",
    "    # 리뷰에 포함되어있는 단어 갯수\n",
    "    rate = []\n",
    "    # 리뷰의 총 길이\n",
    "    text_len = []\n",
    "    for rev in df.review:\n",
    "        count = 0\n",
    "        for data in wordrank:\n",
    "            if data in rev:\n",
    "                count += 1\n",
    "        rate.append(count)\n",
    "        text_len.append(len(rev))\n",
    "    df['rate'] = rate\n",
    "    df['text_len'] = text_len\n",
    "    # rank 단어 포함 갯수 별로 정렬\n",
    "    new_df = df.sort_values(by='rate', ascending=False)\n",
    "    # 리뷰 길이를 평균 길이 이상으로 설정\n",
    "    new_df2 = new_df[text_len >= new_df.text_len.sum() / len(new_df)]\n",
    "    # 각 리뷰별 번호매기기\n",
    "    rev_num = 1\n",
    "    for data in new_df2.review[:3]:\n",
    "        print(rev_num)\n",
    "        print(data)\n",
    "        rev_num += 1"
   ]
  },
  {
   "cell_type": "markdown",
   "id": "elder-regard",
   "metadata": {},
   "source": [
    "부정리뷰 wordcloud"
   ]
  },
  {
   "cell_type": "code",
   "execution_count": 79,
   "id": "architectural-title",
   "metadata": {},
   "outputs": [
    {
     "data": {
      "image/png": "[encoded data removed]",
      "text/plain": [
       "<Figure size 576x360 with 1 Axes>"
      ]
     },
     "metadata": {
      "needs_background": "light"
     },
     "output_type": "display_data"
    },
    {
     "data": {
      "image/png": "[encoded data removed]",
      "text/plain": [
       "<Figure size 576x216 with 1 Axes>"
      ]
     },
     "metadata": {
      "needs_background": "light"
     },
     "output_type": "display_data"
    },
    {
     "name": "stdout",
     "output_type": "stream",
     "text": [
      "1\n",
      "제가 잘못 이해했네요...\n",
      "41900×2개를 결재해야 4개가 오는건데..\n",
      "무슨 생각이었는지 하나만 결재하면\n",
      "4개가 오는 줄 알고\n",
      "한박스만 받고 황당해하고 있네요...\n",
      "30개짜리 4만원이면 결재 안 했을낀데...\n",
      "하나 더 구매하고 4박스 받을수 있으면\n",
      "그리 하려구요...\n",
      "아이고...이거 먹고 진짜 살이나 빠지면 좋겠네요\n",
      "2\n",
      "전두번째구매예요\n",
      "첫번째구매시두달먹었을때\n",
      "전혀효과없었어요 효과없음환불?귀찮아서\n",
      "안했고실제로도 귀찮고번거러워서 효과없어도안한사람들이 대부분일거예요\n",
      "근데왜주문했냐?평소물마시는습관이 너무부족하고\n",
      "맹물은잘못마시다보니 맛좋은이지퀵타서\n",
      "먹음잘넘어가더라구요\n",
      "다이어트효과기대보단 그냥맛난 물섭취개념으로다가\n",
      "샀어요 맛은좋아요\n",
      "3\n",
      "받고 섭취한지 14일차 정도 됐구~살빠지는 효과는 \n",
      "없는듯...걍 유지만 되는 정도랄까~\n",
      "가격이 넘 사악해서 재구매눈 생각 좀 해봐야할듯~\n",
      "맛은 이온움료비스므리한 맛~~\n"
     ]
    }
   ],
   "source": [
    "for num in range(1):\n",
    "    df = gmarket_neg[gmarket_neg['title'] == title.index[0]]\n",
    "    words = []\n",
    "    for data in df.review:\n",
    "        words.extend(mecab.nouns(data))\n",
    "    new_nouns = [each_word for each_word in words if each_word not in stopwords]\n",
    "    words = nltk.Text(new_nouns, name='words')\n",
    "    data = words.vocab().most_common(100)\n",
    "    wc = WordCloud(font_path='/usr/share/fonts/truetype/nanum/NanumMyeongjoExtraBold.ttf',\n",
    "                          mask=custom_mask,\n",
    "                          background_color='white',margin=1,contour_width=1,contour_color='firebrick',colormap='Set2').generate_from_frequencies(dict(data))\n",
    "    plt.figure(figsize=(8,5))\n",
    "    plt.imshow(wc,\n",
    "          interpolation='bilinear')\n",
    "    plt.axis('off')\n",
    "    plt.show()\n",
    "    worddf = pd.DataFrame(data,columns=['word','count'])\n",
    "    fig, ax = plt.subplots(figsize=(8,3))\n",
    "    worddf[:10].sort_values(by='count').plot.barh(x='word',\n",
    "                                           y='count',\n",
    "                                           ax=ax,\n",
    "                                           color='purple')\n",
    "\n",
    "    plt.show()\n",
    "    wordrank = []\n",
    "    for num in range(10):\n",
    "        wordrank.append(worddf.word[num])\n",
    "    # 리뷰에 포함되어있는 랭크 단어 갯수\n",
    "    rate = []\n",
    "    # 리뷰의 총 길이\n",
    "    text_len = []\n",
    "    for rev in df.review:\n",
    "        count = 0\n",
    "        for data in wordrank:\n",
    "            if data in rev:\n",
    "                count += 1\n",
    "        rate.append(count)\n",
    "        text_len.append(len(rev))\n",
    "    df['rate'] = rate\n",
    "    df['text_len'] = text_len\n",
    "    # rank 단어 포함 갯수 별로 정렬\n",
    "    new_df = df.sort_values(by=['rate','text_len'], ascending=False)\n",
    "    new_df2 = new_df[new_df['text_len'] > new_df.text_len.sum()/len(new_df)*4]\n",
    "    # 각 리뷰별 번호매기기\n",
    "    rev_num = 1\n",
    "    for data in new_df2.review[:3]:\n",
    "        print(rev_num)\n",
    "        print(data)\n",
    "        rev_num += 1"
   ]
  },
  {
   "cell_type": "code",
   "execution_count": null,
   "id": "collaborative-astronomy",
   "metadata": {},
   "outputs": [],
   "source": []
  },
  {
   "cell_type": "code",
   "execution_count": null,
   "id": "designed-american",
   "metadata": {},
   "outputs": [],
   "source": []
  },
  {
   "cell_type": "code",
   "execution_count": null,
   "id": "blank-algorithm",
   "metadata": {},
   "outputs": [],
   "source": []
  },
  {
   "cell_type": "code",
   "execution_count": null,
   "id": "pointed-fields",
   "metadata": {},
   "outputs": [],
   "source": []
  },
  {
   "cell_type": "code",
   "execution_count": null,
   "id": "constant-knitting",
   "metadata": {},
   "outputs": [],
   "source": []
  },
  {
   "cell_type": "code",
   "execution_count": null,
   "id": "strong-logic",
   "metadata": {},
   "outputs": [],
   "source": []
  },
  {
   "cell_type": "code",
   "execution_count": null,
   "id": "signed-snowboard",
   "metadata": {},
   "outputs": [],
   "source": []
  },
  {
   "cell_type": "code",
   "execution_count": null,
   "id": "solar-carry",
   "metadata": {},
   "outputs": [],
   "source": []
  },
  {
   "cell_type": "code",
   "execution_count": null,
   "id": "willing-notice",
   "metadata": {},
   "outputs": [],
   "source": []
  },
  {
   "cell_type": "code",
   "execution_count": null,
   "id": "narrow-virgin",
   "metadata": {},
   "outputs": [],
   "source": []
  },
  {
   "cell_type": "code",
   "execution_count": null,
   "id": "european-blackjack",
   "metadata": {},
   "outputs": [],
   "source": []
  },
  {
   "cell_type": "code",
   "execution_count": null,
   "id": "independent-palmer",
   "metadata": {},
   "outputs": [],
   "source": []
  },
  {
   "cell_type": "code",
   "execution_count": null,
   "id": "otherwise-colony",
   "metadata": {},
   "outputs": [],
   "source": []
  },
  {
   "cell_type": "code",
   "execution_count": null,
   "id": "controlling-stamp",
   "metadata": {},
   "outputs": [],
   "source": []
  },
  {
   "cell_type": "code",
   "execution_count": null,
   "id": "animal-olive",
   "metadata": {},
   "outputs": [],
   "source": []
  },
  {
   "cell_type": "code",
   "execution_count": null,
   "id": "behavioral-blind",
   "metadata": {},
   "outputs": [],
   "source": []
  },
  {
   "cell_type": "code",
   "execution_count": null,
   "id": "genuine-demonstration",
   "metadata": {},
   "outputs": [],
   "source": []
  },
  {
   "cell_type": "code",
   "execution_count": null,
   "id": "quarterly-martin",
   "metadata": {},
   "outputs": [],
   "source": []
  },
  {
   "cell_type": "code",
   "execution_count": null,
   "id": "later-fraction",
   "metadata": {},
   "outputs": [],
   "source": []
  },
  {
   "cell_type": "code",
   "execution_count": null,
   "id": "square-capture",
   "metadata": {},
   "outputs": [],
   "source": []
  },
  {
   "cell_type": "code",
   "execution_count": null,
   "id": "electoral-evanescence",
   "metadata": {},
   "outputs": [],
   "source": []
  },
  {
   "cell_type": "code",
   "execution_count": null,
   "id": "brazilian-rebound",
   "metadata": {},
   "outputs": [],
   "source": []
  },
  {
   "cell_type": "code",
   "execution_count": null,
   "id": "handmade-animation",
   "metadata": {},
   "outputs": [],
   "source": []
  },
  {
   "cell_type": "code",
   "execution_count": null,
   "id": "occupied-bacon",
   "metadata": {},
   "outputs": [],
   "source": []
  },
  {
   "cell_type": "code",
   "execution_count": null,
   "id": "tribal-forestry",
   "metadata": {},
   "outputs": [],
   "source": []
  },
  {
   "cell_type": "code",
   "execution_count": null,
   "id": "drawn-stretch",
   "metadata": {},
   "outputs": [],
   "source": []
  }
 ],
 "metadata": {
  "kernelspec": {
   "display_name": "Python 3",
   "language": "python",
   "name": "python3"
  },
  "language_info": {
   "codemirror_mode": {
    "name": "ipython",
    "version": 3
   },
   "file_extension": ".py",
   "mimetype": "text/x-python",
   "name": "python",
   "nbconvert_exporter": "python",
   "pygments_lexer": "ipython3",
   "version": "3.7.9"
  }
 },
 "nbformat": 4,
 "nbformat_minor": 5
}
